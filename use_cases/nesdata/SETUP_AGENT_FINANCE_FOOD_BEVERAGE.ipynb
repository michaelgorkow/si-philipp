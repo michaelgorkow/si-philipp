{
 "metadata": {
  "kernelspec": {
   "display_name": "Streamlit Notebook",
   "name": "streamlit"
  },
  "lastEditStatus": {
   "notebookId": "rozrnipahbwnhnojcpvh",
   "authorId": "923383207706",
   "authorName": "ADMIN",
   "authorEmail": "michael.gorkow@snowflake.com",
   "sessionId": "47529bb7-1663-4653-9975-e89fa169ef5d",
   "lastEditTime": 1756813538052
  }
 },
 "nbformat_minor": 5,
 "nbformat": 4,
 "cells": [
  {
   "cell_type": "code",
   "execution_count": null,
   "id": "3775908f-ca36-4846-8f38-5adca39217f2",
   "metadata": {
    "collapsed": false,
    "language": "python",
    "name": "IMPORTS"
   },
   "outputs": [],
   "source": [
    "import warnings\n",
    "warnings.filterwarnings(\"ignore\")\n",
    "import streamlit as st\n",
    "import pandas as pd\n",
    "from snowflake.snowpark.context import get_active_session\n",
    "from snowflake.snowpark.functions import col\n",
    "from snowflake.snowpark import types as T\n",
    "from snowflake.core import Root\n",
    "from snowflake.cortex import Complete\n",
    "from service_generation import create_cortex_search_service\n",
    "session = get_active_session()\n",
    "root = Root(get_active_session())\n",
    "\n",
    "# Document Generation\n",
    "import doc_generation\n",
    "doc_generation.generate_demo_documents(session)"
   ]
  },
  {
   "cell_type": "markdown",
   "id": "a66bee02-de2d-4c96-92dc-2a683e8be305",
   "metadata": {
    "collapsed": false,
    "name": "OVERVIEW"
   },
   "source": [
    "# Cortex Agents\n",
    "In this notebook you will setup multiple Cortex Search and Cortex Analyst Services which will be used by Cortex Agents to answer user queries on unstructured and structured data.\n",
    "![text](https://github.com/michaelgorkow/snowflake_cortex_agents_demo/blob/main/resources/cortex_agents_notebook_small.png?raw=true)"
   ]
  },
  {
   "cell_type": "markdown",
   "id": "a2cda5f3-3dc6-4609-bf2d-12d114adb9af",
   "metadata": {
    "collapsed": false,
    "name": "CORTEX_SEARCH1"
   },
   "source": [
    "# Setup the Cortex Search Service [Unstructured Data]\n",
    "\n",
    "We have some PDF documents in our stage **DOCUMENTS** that we want business users to be able to ask questions about.  \n",
    "To achieve this, we need to extract the contents of the PDF files and make them searchable.\n",
    "\n",
    "## Extracting Content from PDF Files\n",
    "\n",
    "### [`PARSE_DOCUMENT`](https://docs.snowflake.com/en/sql-reference/functions/parse_document-snowflake-cortex)  \n",
    "This function returns the extracted content from a document on a Snowflake stage as an **OBJECT** that contains JSON-encoded objects as strings.  \n",
    "\n",
    "It supports two types of extractions:  \n",
    "- **Optical Character Recognition (OCR)**  \n",
    "- **Layout Extraction**  \n",
    "\n",
    "### [`SPLIT_TEXT_RECURSIVE_CHARACTER`](https://docs.snowflake.com/en/sql-reference/functions/split_text_recursive_character-snowflake-cortex)  \n",
    "The `SPLIT_TEXT_RECURSIVE_CHARACTER` function splits a string into shorter strings recursively. It is useful for preprocessing text to be used with text embedding or search indexing functions."
   ]
  },
  {
   "cell_type": "code",
   "execution_count": null,
   "id": "dc3cb35b-78ee-4091-97c2-0b05443d8e52",
   "metadata": {
    "collapsed": false,
    "language": "sql",
    "name": "CORTEX_SEARCH2"
   },
   "outputs": [],
   "source": [
    "-- List documents in stage\n",
    "SELECT * FROM DIRECTORY('@DOCUMENTS');"
   ]
  },
  {
   "cell_type": "code",
   "execution_count": null,
   "id": "fe0d2d82-16f6-4552-bc50-d56f91ce30d3",
   "metadata": {
    "collapsed": false,
    "language": "sql",
    "name": "CORTEX_SEARCH3"
   },
   "outputs": [],
   "source": [
    "-- Layout extraction for PDF documents\n",
    "CREATE TABLE IF NOT EXISTS _UNSTR_RAW_DOCUMENTS_MARKETING_CAMPAIGNS AS\n",
    "SELECT \n",
    "    RELATIVE_PATH,\n",
    "    TO_VARCHAR (\n",
    "        SNOWFLAKE.CORTEX.PARSE_DOCUMENT (\n",
    "            '@DOCUMENTS',\n",
    "            RELATIVE_PATH,\n",
    "            {'mode': 'LAYOUT'} ):content\n",
    "        ) AS EXTRACTED_LAYOUT \n",
    "FROM \n",
    "    DIRECTORY('@DOCUMENTS')\n",
    "WHERE\n",
    "    startswith(RELATIVE_PATH, 'marketing_campaigns/');\n",
    "\n",
    "SELECT * FROM _UNSTR_RAW_DOCUMENTS_MARKETING_CAMPAIGNS;"
   ]
  },
  {
   "cell_type": "code",
   "execution_count": null,
   "id": "37ec3abd-9a67-4d63-a7cb-d22196990390",
   "metadata": {
    "collapsed": false,
    "language": "sql",
    "name": "CORTEX_SEARCH4"
   },
   "outputs": [],
   "source": [
    "-- Create chunks from extracted content\n",
    "CREATE OR REPLACE TABLE _UNSTR_CHUNKED_DOCUMENTS_MARKETING_CAMPAIGNS AS\n",
    "SELECT\n",
    "   RELATIVE_PATH,\n",
    "   GET_PRESIGNED_URL(@DOCUMENTS, RELATIVE_PATH, 604800) AS URL,\n",
    "   c.INDEX::INTEGER AS CHUNK_INDEX,\n",
    "   c.value::TEXT AS CHUNK_TEXT\n",
    "FROM\n",
    "   _UNSTR_RAW_DOCUMENTS_MARKETING_CAMPAIGNS,\n",
    "   LATERAL FLATTEN( input => SNOWFLAKE.CORTEX.SPLIT_TEXT_RECURSIVE_CHARACTER (\n",
    "      EXTRACTED_LAYOUT,\n",
    "      'markdown',\n",
    "      4000,\n",
    "      0,\n",
    "      ['\\n\\n', '\\n', ' ', '']\n",
    "   )) c;\n",
    "\n",
    "SELECT * FROM _UNSTR_CHUNKED_DOCUMENTS_MARKETING_CAMPAIGNS;"
   ]
  },
  {
   "cell_type": "code",
   "execution_count": null,
   "id": "8c651cd6-a275-4a07-9b85-52a1554937fa",
   "metadata": {
    "language": "sql",
    "name": "CORTEX_SEARCH5"
   },
   "outputs": [],
   "source": [
    "-- Create a Cortex Search Service for Annual Reports\n",
    "CREATE OR REPLACE CORTEX SEARCH SERVICE SEARCH_MARKETING_CAMPAIGNS\n",
    "  ON CHUNK_TEXT\n",
    "  ATTRIBUTES RELATIVE_PATH, CHUNK_INDEX\n",
    "  WAREHOUSE = COMPUTE_WH\n",
    "  TARGET_LAG = '1 hour'\n",
    "  EMBEDDING_MODEL = 'snowflake-arctic-embed-l-v2.0'\n",
    "AS (\n",
    "  SELECT\n",
    "      CHUNK_TEXT,\n",
    "      RELATIVE_PATH,\n",
    "      CHUNK_INDEX,\n",
    "      URL\n",
    "  FROM _UNSTR_CHUNKED_DOCUMENTS_MARKETING_CAMPAIGNS\n",
    ");"
   ]
  },
  {
   "cell_type": "code",
   "execution_count": null,
   "id": "90683ce5-b523-4c70-bfaf-3b90652ceefc",
   "metadata": {
    "language": "python",
    "name": "CORTEX_SEARCH6"
   },
   "outputs": [],
   "source": [
    "# Create additional search services\n",
    "create_cortex_search_service(session, 'product_specifications')\n",
    "create_cortex_search_service(session, 'regional_market_reports')\n",
    "create_cortex_search_service(session, 'financial_operations_reports')\n",
    "create_cortex_search_service(session, 'customer_contracts')"
   ]
  },
  {
   "cell_type": "markdown",
   "id": "32f8ca07-db9b-4cf5-b2a5-e5a3e030aaf0",
   "metadata": {
    "collapsed": false,
    "name": "CORTEX_SEARCH7"
   },
   "source": [
    "### [Optional] Test Your Service in a Simple RAG Pipeline  \n",
    "\n",
    "In this small example, we **combine Cortex Search with Cortex LLMs** to generate a response from context—also known as **Retrieval-Augmented Generation (RAG)**.  \n",
    "This approach enhances responses by retrieving relevant data before generating an answer, improving accuracy and contextual relevance. 🚀  "
   ]
  },
  {
   "cell_type": "code",
   "execution_count": null,
   "id": "d3e07ffc-0874-422b-a439-dacdaab98585",
   "metadata": {
    "collapsed": false,
    "language": "python",
    "name": "CORTEX_SEARCH8"
   },
   "outputs": [],
   "source": [
    "question = 'Which marketing campaigns targeted the Chocolate category and what were the sales results?'\n",
    "\n",
    "# Fetch service\n",
    "my_service = (root\n",
    "  .databases[\"CORTEX_AGENTS_DEMO\"]\n",
    "  .schemas[\"FINANCE_FOOD_BEVERAGE\"]\n",
    "  .cortex_search_services[\"SEARCH_MARKETING_CAMPAIGNS\"]\n",
    ")\n",
    "\n",
    "# Query service\n",
    "resp = my_service.search(\n",
    "  query=question,\n",
    "  columns=[\"CHUNK_INDEX\", \"CHUNK_TEXT\", \"RELATIVE_PATH\", \"URL\"],\n",
    "  limit=1\n",
    ")\n",
    "resp = resp.results[0]\n",
    "\n",
    "st.info(f'**File:** {resp[\"RELATIVE_PATH\"]}\\n\\n **Source:**\\n\\n {resp[\"URL\"]}\\n\\n {resp[\"CHUNK_TEXT\"]}')\n",
    "\n",
    "# Generate Response\n",
    "model = 'mistral-large2'\n",
    "prompt = f\"{question} Answer based on the provided context: {resp['CHUNK_TEXT']}\"\n",
    "response = Complete(model, prompt).strip()\n",
    "\n",
    "st.info(f'**LLM Response:**\\n\\n**{response}**')"
   ]
  },
  {
   "cell_type": "markdown",
   "id": "00717c52-d652-48c9-be0b-1aaf5d0e2748",
   "metadata": {
    "collapsed": false,
    "name": "CORTEX_ANALYST1"
   },
   "source": [
    "# Setup the Cortex Analyst Service [Structured Data]  \n",
    "\n",
    "We generate a realistic looking financial dataset for a food and beverage company that users will be able to **query in natural language**.  "
   ]
  },
  {
   "cell_type": "code",
   "execution_count": null,
   "id": "6683f336-9343-4fe5-8d14-faad35a4c725",
   "metadata": {
    "language": "python",
    "name": "CORTEX_ANALYST2"
   },
   "outputs": [],
   "source": [
    "import pandas as pd\n",
    "import numpy as np\n",
    "from datetime import datetime, timedelta\n",
    "import random\n",
    "\n",
    "# Set random seed for reproducibility\n",
    "np.random.seed(42)\n",
    "random.seed(42)\n",
    "\n",
    "def generate_financial_dataset():\n",
    "    \"\"\"Generate a realistic financial dataset for food and beverage company\"\"\"\n",
    "    \n",
    "    categories = {\n",
    "        'Coffee': ['NesKafe Classic', 'NesKafe Gold', 'NesKafe Decaf', 'NesKafe Instant',\n",
    "                  'NesKafe Cappuccino', 'NesKafe Latte', 'NesKafe Mocha'],\n",
    "        'Water': ['PureLife Natural', 'PureLife Sparkling', 'PureLife Flavored', \n",
    "                 'AquaFlow Premium', 'SpringSource Mountain', 'CrystalClear Pure'],\n",
    "        'Chocolate': ['ChocoBars Dark', 'ChocoBars Milk', 'ChocoBars White', 'ChocoBars Almond',\n",
    "                     'SweetTreats Original', 'SweetTreats Caramel', 'ChocoWafers Crispy',\n",
    "                     'CreamyBites Hazelnut', 'DeluxeChoc Premium'],\n",
    "        'Baby Food': ['BabyFirst Formula', 'BabyFirst Organic', 'BabyFirst Cereal', \n",
    "                     'TinyTots Puree', 'LittleOnes Snacks', 'InfantCare Plus'],\n",
    "        'Dairy': ['CreamyDelight Vanilla', 'CreamyDelight Chocolate', 'CreamyDelight Strawberry',\n",
    "                 'FrozenJoy Cookies', 'FrozenJoy Mint', 'PremiumScoop Deluxe'],\n",
    "        'Cereals': ['MorningCrunch Honey', 'MorningCrunch Chocolate', 'HealthyStart Oats',\n",
    "                   'FiberPlus Original', 'KidsChoice Fruity'],\n",
    "        'Pet Care': ['PetLove Dry Food', 'PetLove Wet Food', 'PetLove Treats', 'PetCare Premium']\n",
    "    }\n",
    "    \n",
    "    products_data = []\n",
    "    for category, products in categories.items():\n",
    "        for i, product in enumerate(products, 1):\n",
    "            products_data.append({\n",
    "                'PRODUCT_ID': len(products_data) + 1,\n",
    "                'PRODUCT_NAME': product,\n",
    "                'CATEGORY': category,\n",
    "                'UNIT_COST': round(random.uniform(0.5, 15.0), 2),\n",
    "                'UNIT_PRICE': round(random.uniform(1.0, 25.0), 2)\n",
    "            })\n",
    "    \n",
    "    products_df = pd.DataFrame(products_data)\n",
    "    \n",
    "    # 2. CUSTOMERS TABLE (High cardinality - customer names)\n",
    "    customer_types = ['Supermarket', 'Convenience Store', 'Hypermarket', 'Online Retailer', 'Distributor']\n",
    "    regions = ['North America', 'Europe', 'Asia Pacific', 'Latin America', 'Middle East & Africa']\n",
    "    \n",
    "    customer_names = [\n",
    "        # Supermarkets\n",
    "        'FreshMart Downtown', 'FreshMart Central', 'FreshMart Plaza', 'GroceryWorld Main',\n",
    "        'GroceryWorld Express', 'SuperShop Premium', 'SuperShop Local', 'MegaStore Alpha',\n",
    "        'MegaStore Beta', 'MegaStore Gamma', 'QuickBuy Central', 'QuickBuy Corner',\n",
    "        \n",
    "        # Hypermarkets\n",
    "        'HyperMall North', 'HyperMall South', 'HyperMall East', 'GiantStore Complex',\n",
    "        'GiantStore Plaza', 'UltraMart Mega', 'UltraMart Super',\n",
    "        \n",
    "        # Online Retailers\n",
    "        'E-Commerce Hub', 'Digital Grocery Co', 'Online Fresh Ltd', 'WebMart Express',\n",
    "        'VirtualStore Pro', 'ClickAndBuy Solutions',\n",
    "        \n",
    "        # Distributors\n",
    "        'Regional Dist. Corp', 'National Supply Chain', 'Metro Distribution', \n",
    "        'Premium Wholesale Ltd', 'Global Trade Partners', 'Continental Suppliers',\n",
    "        \n",
    "        # International\n",
    "        'EuroMart Berlin', 'EuroMart Paris', 'AsiaFresh Tokyo', 'AsiaFresh Seoul',\n",
    "        'LatinMarket Mexico', 'LatinMarket Brazil', 'AfricaTrade Lagos', 'AfricaTrade Cairo'\n",
    "    ]\n",
    "    \n",
    "    customers_data = []\n",
    "    for i, name in enumerate(customer_names, 1):\n",
    "        customers_data.append({\n",
    "            'CUSTOMER_ID': i,\n",
    "            'CUSTOMER_NAME': name,\n",
    "            'CUSTOMER_TYPE': random.choice(customer_types),\n",
    "            'REGION': random.choice(regions),\n",
    "            'CREDIT_LIMIT': random.choice([50000, 100000, 250000, 500000, 1000000])\n",
    "        })\n",
    "    \n",
    "    customers_df = pd.DataFrame(customers_data)\n",
    "    \n",
    "    # 3. TIME PERIODS TABLE\n",
    "    start_date = datetime(2021, 1, 1)\n",
    "    time_periods = []\n",
    "    \n",
    "    for i in range(48):  # 24 months\n",
    "        current_date = start_date + timedelta(days=30*i)\n",
    "        time_periods.append({\n",
    "            'PERIOD_ID': i + 1,\n",
    "            'YEAR': current_date.year,\n",
    "            'MONTH': current_date.month,\n",
    "            'QUARTER': f\"Q{(current_date.month-1)//3 + 1}\",\n",
    "            'MONTH_NAME': current_date.strftime('%B'),\n",
    "            'DATE': current_date.strftime('%Y-%m-%d')\n",
    "        })\n",
    "    \n",
    "    time_periods_df = pd.DataFrame(time_periods)\n",
    "    \n",
    "    # 4. SALES TRANSACTIONS TABLE\n",
    "    sales_data = []\n",
    "    transaction_id = 1\n",
    "    \n",
    "    for period in range(1, 49):  # 24 months\n",
    "        # Generate different number of transactions per month\n",
    "        num_transactions = random.randint(800, 1200)\n",
    "        \n",
    "        for _ in range(num_transactions):\n",
    "            customer_id = random.randint(1, len(customers_df))\n",
    "            product_id = random.randint(1, len(products_df))\n",
    "            quantity = random.randint(10, 1000)\n",
    "            \n",
    "            # Get product info for calculations\n",
    "            product_info = products_df[products_df['PRODUCT_ID'] == product_id].iloc[0]\n",
    "            unit_price = product_info['UNIT_PRICE']\n",
    "            unit_cost = product_info['UNIT_COST']\n",
    "            \n",
    "            # Add some price variation\n",
    "            actual_price = unit_price * random.uniform(0.9, 1.1)\n",
    "            revenue = quantity * actual_price\n",
    "            cost = quantity * unit_cost\n",
    "            \n",
    "            sales_data.append({\n",
    "                'TRANSACTION_ID': transaction_id,\n",
    "                'CUSTOMER_ID': customer_id,\n",
    "                'PRODUCT_ID': product_id,\n",
    "                'PERIOD_ID': period,\n",
    "                'QUANTITY_SOLD': quantity,\n",
    "                'UNIT_PRICE': round(actual_price, 2),\n",
    "                'TOTAL_REVENUE': round(revenue, 2),\n",
    "                'TOTAL_COST': round(cost, 2),\n",
    "                'GROSS_PROFIT': round(revenue - cost, 2)\n",
    "            })\n",
    "            transaction_id += 1\n",
    "    \n",
    "    sales_df = pd.DataFrame(sales_data)\n",
    "    \n",
    "    # 5. MARKETING CAMPAIGNS TABLE\n",
    "    campaigns_data = [\n",
    "        {'campaign_id': 1, 'campaign_name': 'Coffee Lovers Special', 'category': 'Coffee', \n",
    "         'start_period': 3, 'end_period': 5, 'budget': 500000, 'discount_percent': 15},\n",
    "        {'campaign_id': 2, 'campaign_name': 'Summer Hydration', 'category': 'Water', \n",
    "         'start_period': 6, 'end_period': 8, 'budget': 750000, 'discount_percent': 10},\n",
    "        {'campaign_id': 3, 'campaign_name': 'Back to School', 'category': 'Cereals', \n",
    "         'start_period': 8, 'end_period': 9, 'budget': 400000, 'discount_percent': 20},\n",
    "        {'campaign_id': 4, 'campaign_name': 'Holiday Treats', 'category': 'Chocolate', \n",
    "         'start_period': 11, 'end_period': 12, 'budget': 1000000, 'discount_percent': 25},\n",
    "        {'campaign_id': 5, 'campaign_name': 'New Year Health', 'category': 'Baby Food', \n",
    "         'start_period': 13, 'end_period': 14, 'budget': 300000, 'discount_percent': 12},\n",
    "        {'campaign_id': 6, 'campaign_name': 'Spring Refresh', 'category': 'Dairy', \n",
    "         'start_period': 15, 'end_period': 17, 'budget': 600000, 'discount_percent': 18},\n",
    "        {'campaign_id': 7, 'campaign_name': 'Pet Love Month', 'category': 'Pet Care', \n",
    "         'start_period': 18, 'end_period': 18, 'budget': 200000, 'discount_percent': 30}\n",
    "    ]\n",
    "    \n",
    "    campaigns_df = pd.DataFrame(campaigns_data)\n",
    "    campaigns_df.columns = [col.upper() for col in campaigns_df.columns]\n",
    "    \n",
    "    return {\n",
    "        'products': products_df,\n",
    "        'customers': customers_df,\n",
    "        'time_periods': time_periods_df,\n",
    "        'sales': sales_df,\n",
    "        'campaigns': campaigns_df\n",
    "    }\n",
    "\n",
    "# Generate the dataset\n",
    "dataset = generate_financial_dataset()\n",
    "\n",
    "# Save to Snowflake\n",
    "products_df = session.write_pandas(df=dataset['products'], table_name='PRODUCTS', overwrite=True, auto_create_table=True)\n",
    "customers_df = session.write_pandas(df=dataset['customers'], table_name='CUSTOMERS', overwrite=True, auto_create_table=True)\n",
    "time_periods_df = session.write_pandas(df=dataset['time_periods'], table_name='TIME_PERIODS', overwrite=True, auto_create_table=True)\n",
    "time_periods_df = time_periods_df.with_column(\"DATE\", col(\"DATE\").cast(T.DateType()))\n",
    "time_periods_df.write.mode(\"overwrite\").save_as_table('TIME_PERIODS', mode='overwrite')\n",
    "campaigns_df = session.write_pandas(df=dataset['campaigns'], table_name='CAMPAIGNS', overwrite=True, auto_create_table=True)\n",
    "sales_df = session.write_pandas(df=dataset['sales'], table_name='SALES', overwrite=True, auto_create_table=True)\n",
    "\n",
    "# Display sample data\n",
    "for table_name, df in dataset.items():\n",
    "    st.subheader(f\"\\n{table_name.upper()}\")\n",
    "    st.dataframe(df.head(3))"
   ]
  },
  {
   "cell_type": "markdown",
   "id": "352d9b4d-9c34-4e91-9cc6-caa60b231b2f",
   "metadata": {
    "collapsed": false,
    "name": "CORTEX_ANALYST4"
   },
   "source": [
    "# Dynamic Literal Retrieval with Cortex Analyst\n",
    "\n",
    "Business users may not have detailed knowledge of how data is stored in Snowflake.  \n",
    "Instead of ingesting all possible values of a column into **Cortex Analyst**, we will use **dynamic literal retrieval** via the [Cortex Search Integration](https://docs.snowflake.com/en/user-guide/snowflake-cortex/cortex-analyst/cortex-analyst-search-integration).\n",
    "\n",
    "## How It Works  \n",
    "When a user asks a question about their **sales** that requires the `PRODUCT_NAME`, `CUSTOMER_NAME`, `CAMPAIGN_NAME` column, **Cortex Analyst** will:  \n",
    "1. Retrieve the relevant literal dynamically from **Cortex Search**  \n",
    "2. Use it for **SQL generation**  \n",
    "\n",
    "This approach ensures efficient and accurate query generation without preloading all possible values into Cortex Analyst.  \n"
   ]
  },
  {
   "cell_type": "code",
   "execution_count": null,
   "id": "837aa585-3963-4767-9f6e-df919c4faf6a",
   "metadata": {
    "collapsed": false,
    "language": "sql",
    "name": "CORTEX_ANALYST5"
   },
   "outputs": [],
   "source": [
    "CREATE CORTEX SEARCH SERVICE IF NOT EXISTS _ANALYST_PRODUCT_NAME_SEARCH\n",
    "  ON PRODUCT_NAME\n",
    "  WAREHOUSE = COMPUTE_WH\n",
    "  TARGET_LAG = '1 hour'\n",
    "  EMBEDDING_MODEL = 'snowflake-arctic-embed-l-v2.0'\n",
    "AS (\n",
    "  SELECT\n",
    "      DISTINCT PRODUCT_NAME\n",
    "  FROM PRODUCTS\n",
    ");"
   ]
  },
  {
   "cell_type": "code",
   "execution_count": null,
   "id": "251cec9e-4070-4fcc-af17-11747b58b0c7",
   "metadata": {
    "collapsed": false,
    "language": "sql",
    "name": "CORTEX_ANALYST6"
   },
   "outputs": [],
   "source": [
    "CREATE CORTEX SEARCH SERVICE IF NOT EXISTS _ANALYST_CUSTOMER_NAME_SEARCH\n",
    "  ON CUSTOMER_NAME\n",
    "  WAREHOUSE = COMPUTE_WH\n",
    "  TARGET_LAG = '1 hour'\n",
    "  EMBEDDING_MODEL = 'snowflake-arctic-embed-l-v2.0'\n",
    "AS (\n",
    "  SELECT\n",
    "      DISTINCT CUSTOMER_NAME,\n",
    "  FROM CUSTOMERS\n",
    ");"
   ]
  },
  {
   "cell_type": "code",
   "execution_count": null,
   "id": "d822ae0c-101f-4f36-9252-b7e13134b3f1",
   "metadata": {
    "collapsed": false,
    "language": "sql",
    "name": "CORTEX_ANALYST7"
   },
   "outputs": [],
   "source": [
    "CREATE CORTEX SEARCH SERVICE IF NOT EXISTS _ANALYST_CAMPAIGN_SEARCH\n",
    "  ON CAMPAIGN_NAME\n",
    "  WAREHOUSE = COMPUTE_WH\n",
    "  TARGET_LAG = '1 hour'\n",
    "  EMBEDDING_MODEL = 'snowflake-arctic-embed-l-v2.0'\n",
    "AS (\n",
    "  SELECT\n",
    "      DISTINCT CAMPAIGN_NAME,\n",
    "  FROM CAMPAIGNS\n",
    ");"
   ]
  },
  {
   "cell_type": "markdown",
   "id": "c1bf508c-613d-41db-a87d-d4212ce69836",
   "metadata": {
    "collapsed": false,
    "name": "CORTEX_ANALYST8"
   },
   "source": [
    "### [Optional] Test Literal Retrievals"
   ]
  },
  {
   "cell_type": "code",
   "execution_count": null,
   "id": "f8ff86b7-a46e-4faf-b6e6-7ed32a2b9a5b",
   "metadata": {
    "language": "python",
    "name": "CORTEX_ANALYST9"
   },
   "outputs": [],
   "source": [
    "question = 'What was the over impact of the sumer hydration campaign?'\n",
    "\n",
    "# Fetch service\n",
    "my_service = (root\n",
    "  .databases[\"CORTEX_AGENTS_DEMO\"]\n",
    "  .schemas[\"FINANCE_FOOD_BEVERAGE\"]\n",
    "  .cortex_search_services[\"_ANALYST_CAMPAIGN_SEARCH\"]\n",
    ")\n",
    "\n",
    "# Query service\n",
    "resp = my_service.search(\n",
    "  query=question,\n",
    "  columns=[\"CAMPAIGN_NAME\"],\n",
    "  limit=1\n",
    ")\n",
    "resp = resp.results[0]\n",
    "\n",
    "st.info(f'**Search Results: {resp[\"CAMPAIGN_NAME\"]}**')"
   ]
  },
  {
   "cell_type": "code",
   "execution_count": null,
   "id": "2d536d7d-2d40-43e3-b0ce-b6e71d21fdd3",
   "metadata": {
    "language": "python",
    "name": "CORTEX_ANALYST10"
   },
   "outputs": [],
   "source": [
    "question = 'What was the revenue per week for my customer supershop local?'\n",
    "\n",
    "# Fetch service\n",
    "my_service = (root\n",
    "  .databases[\"CORTEX_AGENTS_DEMO\"]\n",
    "  .schemas[\"FINANCE_FOOD_BEVERAGE\"]\n",
    "  .cortex_search_services[\"_ANALYST_CUSTOMER_NAME_SEARCH\"]\n",
    ")\n",
    "\n",
    "# Query service\n",
    "resp = my_service.search(\n",
    "  query=question,\n",
    "  columns=[\"CUSTOMER_NAME\"],\n",
    "  limit=1\n",
    ")\n",
    "\n",
    "for r in resp.results:\n",
    "    st.info(r['CUSTOMER_NAME'])"
   ]
  },
  {
   "cell_type": "code",
   "execution_count": null,
   "id": "dff6c8aa-0c58-4462-b54f-1d98e0349e93",
   "metadata": {
    "language": "python",
    "name": "CORTEX_ANALYST11"
   },
   "outputs": [],
   "source": [
    "question = 'What was the revenue for pure life products?'\n",
    "\n",
    "# Fetch service\n",
    "my_service = (root\n",
    "  .databases[\"CORTEX_AGENTS_DEMO\"]\n",
    "  .schemas[\"FINANCE_FOOD_BEVERAGE\"]\n",
    "  .cortex_search_services[\"_ANALYST_PRODUCT_NAME_SEARCH\"]\n",
    ")\n",
    "\n",
    "# Query service\n",
    "resp = my_service.search(\n",
    "  query=question,\n",
    "  columns=[\"PRODUCT_NAME\"],\n",
    "  limit=3\n",
    ")\n",
    "\n",
    "for r in resp.results:\n",
    "    st.info(r['PRODUCT_NAME'])"
   ]
  },
  {
   "cell_type": "markdown",
   "id": "6944f286-6f8d-4ed9-a654-d79160a23bd7",
   "metadata": {
    "name": "SEMANTIC_VIEW1",
    "collapsed": false
   },
   "source": "# Create Semantic View"
  },
  {
   "cell_type": "code",
   "id": "fb27b925-2265-48d6-9c72-31ebfec2f607",
   "metadata": {
    "language": "sql",
    "name": "SEMANTIC_VIEW2"
   },
   "outputs": [],
   "source": "create or replace semantic view CORTEX_AGENTS_DEMO.FINANCE_FOOD_BEVERAGE.FINANCE_SEMANTIC_MODEL \ntables (\n    CAMPAIGNS primary key (CATEGORY) with synonyms =(\n        'advertisements',\n        'promotions',\n        'marketing campaigns',\n        'ad campaigns',\n        'promotional activities',\n        'sales promotions',\n        'advertising initiatives'\n    ) comment = 'This table stores information about marketing campaigns, including the campaign''s unique identifier, name, category, start and end periods, allocated budget, and discount percentage offered during the campaign.',\n    CUSTOMERS primary key (CUSTOMER_ID) with synonyms =(\n        'clients',\n        'patrons',\n        'buyers',\n        'consumers',\n        'customers_list',\n        'customer_base',\n        'client_base',\n        'customer_database'\n    ) comment = 'This table stores information about customers, including their unique identifier, name, type (e.g. individual, business, etc.), geographic region, and credit limit.',\n    PRODUCTS primary key (CATEGORY, PRODUCT_ID) with synonyms =(\n        'items',\n        'goods',\n        'merchandise',\n        'commodities',\n        'stock',\n        'inventory',\n        'products_list',\n        'product_catalog'\n    ) comment = 'This table stores information about the products offered by a company, including a unique identifier, product name, category, and pricing details.',\n    SALES primary key (PRODUCT_ID) with synonyms =(\n        'SALES_DATA',\n        'SALES_INFO',\n        'SALES_RECORDS',\n        'TRANSACTION_DATA',\n        'SALES_TRANSACTIONS',\n        'REVENUE_DATA'\n    ) comment = 'This table stores sales transaction data, capturing key information about each sale, including the transaction ID, customer and product details, sales period, quantity sold, pricing, revenue, cost, and profit.',\n    TIME_PERIODS primary key (PERIOD_ID) with synonyms =(\n        'time_periods',\n        'time_frames',\n        'periods',\n        'time_intervals',\n        'date_ranges',\n        'calendar_periods',\n        'fiscal_periods',\n        'reporting_periods'\n    ) comment = 'This table stores information about specific time periods, including the period ID, year, month, quarter, month name, and a specific date. It appears to be a date dimension table, which is commonly used in data warehousing and business intelligence applications to provide a centralized repository of date-related data for reporting and analysis purposes.'\n) relationships (\n    CAMPAIGNS_TO_TIME_PERIOD_END as CAMPAIGNS(END_PERIOD) references TIME_PERIODS(PERIOD_ID),\n    CAMPAIGNS_TO_TIME_PERIOD_START as CAMPAIGNS(START_PERIOD) references TIME_PERIODS(PERIOD_ID),\n    CAMPAIGNS_TO_PRODUCT as PRODUCTS(CATEGORY) references CAMPAIGNS(CATEGORY),\n    SALES_TO_PRODUCT as PRODUCTS(PRODUCT_ID) references SALES(PRODUCT_ID),\n    SALES_TO_CUSTOMERS as SALES(CUSTOMER_ID) references CUSTOMERS(CUSTOMER_ID),\n    SALES_TO_TIME_PERIODS as SALES(PERIOD_ID) references TIME_PERIODS(PERIOD_ID)\n) facts (\n    CAMPAIGNS.BUDGET as BUDGET with synonyms =(\n        'funds_allocated',\n        'allocated_amount',\n        'financial_plan',\n        'cost_plan',\n        'expense_limit',\n        'financial_allocation',\n        'allocated_funds',\n        'cost_estimate'\n    ) comment = 'The budget allocated for each marketing campaign.',\n    CAMPAIGNS.DISCOUNT_PERCENT as DISCOUNT_PERCENT with synonyms =(\n        'discount_rate',\n        'percentage_off',\n        'promo_percentage',\n        'sale_percentage',\n        'markdown_percentage',\n        'percent_discount',\n        'discount_percentage_value'\n    ) comment = 'The percentage discount offered to customers as part of a marketing campaign.',\n    CUSTOMERS.CREDIT_LIMIT as CREDIT_LIMIT with synonyms =(\n        'max_credit',\n        'credit_ceiling',\n        'credit_maximu',\n        'credit_upper_limit',\n        'maximum_credit_allowed',\n        'credit_limit_amount'\n    ) comment = 'The maximum amount of credit that a customer is a allowed to use for purchases.',\n    PRODUCTS.UNIT_COST as UNIT_COST with synonyms =(\n        'cost_per_unit',\n        'unit_price_base',\n        'base_cost',\n        'cost_per_item',\n        'unit_expense',\n        'item_cost'\n    ) comment = 'The cost of a single unit of each product, representing the amount the company pays to produce or purchase one item.',\n    PRODUCTS.UNIT_PRICE as UNIT_PRICE with synonyms =(\n        'price_per_unit',\n        'selling_price',\n        'list_price',\n        'retail_price',\n        'item_price'\n    ) comment = 'The price of each product per unit.',\n    SALES.GROSS_PROFIT as GROSS_PROFIT with synonyms =(\n        'gross_margin',\n        'profit',\n        'net_gain',\n        'earnings',\n        'total_profit',\n        'revenue_surplus',\n        'income',\n        'net_earnings',\n        'profit_margin'\n    ) comment = 'The total profit earned from sales after deducting the cost of goods sold, representing the amount left over to cover operating expenses and generate net income.',\n    SALES.QUANTITY_SOLD as QUANTITY_SOLD with synonyms =(\n        'units_sold',\n        'items_sold',\n        'sales_volume',\n        'quantity_purchased',\n        'amout_sold',\n        'volume_sold',\n        'sales_quantity'\n    ) comment = 'The total number of units of a product sold during a transaction.',\n    SALES.TOTAL_COST as TOTAL_COST with synonyms =(\n        'total_expense',\n        'total_spend',\n        'total_outlay',\n        'total_expenditure',\n        'overall_cost',\n        'total_outgoings'\n    ) comment = 'The total cost of a sale, representing the overall amount spent by a customer on a particular transaction.',\n    SALES.TOTAL_REVENUE as TOTAL_REVENUE with synonyms =(\n        'total_sales',\n        'total_income',\n        'revenue_total',\n        'total_revenue_generated',\n        'total_turnover',\n        'total_receipts',\n        'total_earnings'\n    ) comment = 'The total revenue generated from sales, representing the total amount of money earned from the sale of products or services.',\n    SALES.UNIT_PRICE as UNIT_PRICE with synonyms =(\n        'item_price',\n        'price_per_unit',\n        'cost_per_item',\n        'unit_cost',\n        'base_price',\n        'list_price',\n        'selling_price',\n        'price_per_item'\n    ) comment = 'The price of a single unit of a product sold.'\n) dimensions (\n    CAMPAIGNS.CAMPAIGN_ID as CAMPAIGN_ID with synonyms =(\n        'campaign_key',\n        'campaign_number',\n        'campaign_code',\n        'marketing_id',\n        'promo_id',\n        'ad_id'\n    ) comment = 'Unique identifier for a marketing campaign.',\n    CAMPAIGNS.CAMPAIGN_NAME as CAMPAIGN_NAME with synonyms =(\n        'advertising_name',\n        'marketing_campaign',\n        'promotion_name',\n        'campaign_title',\n        'ad_name',\n        'promo_name'\n    ) comment = 'The name of a specific marketing campaign run by the company.',\n    CAMPAIGNS.CATEGORY as CATEGORY with synonyms =(\n        'type',\n        'classification',\n        'group',\n        'genre',\n        'kind',\n        'class',\n        'sort',\n        'label',\n        'designation'\n    ) comment = 'The category of product or service being promoted in the campaign.',\n    CAMPAIGNS.END_PERIOD as END_PERIOD with synonyms =(\n        'end_date',\n        'end_time',\n        'period_end',\n        'expiration_date',\n        'termination_date',\n        'closing_period',\n        'final_date',\n        'last_date'\n    ) comment = 'The end date of the campaign period, represented as a numerical value.',\n    CAMPAIGNS.START_PERIOD as START_PERIOD with synonyms =(\n        'start_date',\n        'initial_period',\n        'beginning_period',\n        'commencement_date',\n        'kickoff_date',\n        'launch_date',\n        'period_start',\n        'start_time'\n    ) comment = 'The start period of a campaign, representing the month when the campaign was initiated, with values ranging from 3 to 8, likely corresponding to the third to eighth months of the year.',\n    CUSTOMERS.CUSTOMER_ID as CUSTOMER_ID with synonyms =(\n        'customer_key',\n        'client_id',\n        'account_number',\n        'customer_number',\n        'client_id_number',\n        'account_id'\n    ) comment = 'Unique identifier for each customer in the database, used to distinguish and reference individual customers across various transactions and interactions.',\n    CUSTOMERS.CUSTOMER_NAME as CUSTOMER_NAME with synonyms =(\n        'client_name',\n        'account_holder',\n        'account_name',\n        'client_title',\n        'customer_title',\n        'full_name',\n        'account_owner'\n    ) comment = 'The name of the customer, which can be a physical store location or an online entity.',\n    CUSTOMERS.CUSTOMER_TYPE as CUSTOMER_TYPE with synonyms =(\n        'customer_category',\n        'client_type',\n        'account_type',\n        'customer_classification',\n        'client_classification',\n        'account_classification'\n    ) comment = 'The type of business or organization that the customer represents, such as a retail store, supermarket, or wholesale distributor.',\n    CUSTOMERS.REGION as REGION with synonyms =(\n        'area',\n        'territory',\n        'zone',\n        'district',\n        'location',\n        'geographic_area',\n        'province',\n        'state',\n        'county',\n        'municipality'\n    ) comment = 'Geographic region where the customer is located.',\n    PRODUCTS.CATEGORY as CATEGORY with synonyms =(\n        'type',\n        'classification',\n        'group',\n        'product_type',\n        'product_group',\n        'class',\n        'genre',\n        'kind'\n    ) comment = 'The category of the product, which can be one of the 3 types: Coffee, Water, or Chocolate, indicating the main classification or grouping of the product.',\n    PRODUCTS.PRODUCT_ID as PRODUCT_ID with synonyms =(\n        'product_key',\n        'item_id',\n        'product_number',\n        'item_number',\n        'product_code',\n        'sku',\n        'product_identifier'\n    ) comment = 'Unique identifier for each product in the catalog.',\n    PRODUCTS.PRODUCT_NAME as PRODUCT_NAME with synonyms =(\n        'item_name',\n        'product_title',\n        'item_title',\n        'product_description',\n        'product_label',\n        'item_label'\n    ) comment = 'The type of NesKafe coffee product beign sold.',\n    SALES.CUSTOMER_ID as CUSTOMER_ID with synonyms =(\n        'client_id',\n        'customer_number',\n        'account_id',\n        'client_number',\n        'account_holder_id',\n        'user_id'\n    ) comment = 'Unique identifier for the customer who made the purchase.',\n    SALES.PERIOD_ID as PERIOD_ID with synonyms =(\n        'time_period',\n        'reporting_period',\n        'fiscal_period',\n        'accounting_period',\n        'cycle_id',\n        'interval_id',\n        'time_interval',\n        'period_number'\n    ) comment = 'A unique identifier for a specific time period, such as a month, quarter, or year, used to track sales performance over time.',\n    SALES.PRODUCT_ID as PRODUCT_ID with synonyms =(\n        'item_id',\n        'product_code',\n        'item_code',\n        'product_number',\n        'sku',\n        'product_key'\n    ) comment = 'Unique identifier for the product being sold.',\n    SALES.TRANSACTION_ID as TRANSACTION_ID with synonyms =(\n        'order_id',\n        'transaction_number',\n        'sale_id',\n        'invoice_number',\n        'purchase_id',\n        'deal_id',\n        'trade_id'\n    ) comment = 'Unique identifier for each sales transaction.',\n    TIME_PERIODS.DATE as DATE with synonyms =(\n        'day',\n        'calendar_date',\n        'timestamp',\n        'datestamp',\n        'calendar_day',\n        'date_value'\n    ) comment = 'Date dimension representing specific points in time, used to track and analyze data over distinct periods.',\n    TIME_PERIODS.MONTH as MONTH with synonyms =(\n        'month_number',\n        'month_value',\n        'month_code',\n        'calendar_month',\n        'month_of_year',\n        'month_index'\n    ) comment = 'The month of the year in which a specific event or transaction occurred, represented by a numerical value (1-12), with the provided values indicating January, March, and April.',\n    TIME_PERIODS.MONTH_NAME as MONTH_NAME with synonyms =(\n        'month_description',\n        'month_full_name',\n        'full_month_name',\n        'month_label',\n        'month_title',\n        'month_text'\n    ) comment = 'The month of the year in which a specific event or transaction occurred.',\n    TIME_PERIODS.PERIOD_ID as PERIOD_ID with synonyms =(\n        'period_key',\n        'time_period_identifier',\n        'id',\n        'time_id',\n        'interval_id',\n        'cycle_id'\n    ) comment = 'Unique identifier for a specific time period, used to distinguish between different intervals of time.',\n    TIME_PERIODS.QUARTER as QUARTER with synonyms =(\n        'quarterly_period',\n        'financial_quarter',\n        'qtr',\n        'fiscal_quarter',\n        'quarterly_term'\n    ) comment = 'The quarter of the year in which a specific event or metric occurred, with possible values being Q1 (January to March), Q2 (April to June), and Q3 (July to September).',\n    TIME_PERIODS.YEAR as YEAR with synonyms =(\n        'year_value',\n        'annual_period',\n        'fiscal_year',\n        'calendar_year',\n        'yearly_period',\n        'twelve_month_period'\n    ) comment = 'The year in which the data was recorded or the event occurred.'\n) comment = 'This models represents the global sales and marketing operations of a major food and beverage company, tracking financial performance across key product categories including coffee, water, chocolate, baby food, dairy, cereals, and pet care products. The data captures 24 months of transactional sales data from diverse customer channels (supermarkets, hypermarkets, online retailers, and distributors) across five major geographic regions, enabling comprehensive revenue, profitability, and market performance analysis. Additionally, the dataset includes marketing campaign information to measure promotional effectiveness and seasonal trends, providing insights for strategic decision-making in product portfolio management and customer relationship optimization.' with extension (\n    CA = '{\"tables\":[{\"name\":\"CAMPAIGNS\",\"dimensions\":[{\"name\":\"CAMPAIGN_ID\",\"sample_values\":[\"1\",\"2\",\"3\"]},{\"name\":\"CAMPAIGN_NAME\",\"cortex_search_service\":{\"database\":\"CORTEX_AGENTS_DEMO\",\"schema\":\"FINANCE_FOOD_BEVERAGE\",\"service\":\"_ANALYST_CAMPAIGN_SEARCH\"}},{\"name\":\"CATEGORY\",\"sample_values\":[\"Coffee\",\"Water\",\"Cereals\"]},{\"name\":\"END_PERIOD\",\"sample_values\":[\"5\",\"8\",\"9\"]},{\"name\":\"START_PERIOD\",\"sample_values\":[\"3\",\"6\",\"8\"]}],\"facts\":[{\"name\":\"BUDGET\",\"sample_values\":[\"500000\",\"750000\",\"400000\"]},{\"name\":\"DISCOUNT_PERCENT\",\"sample_values\":[\"15\",\"10\",\"20\"]}]},{\"name\":\"CUSTOMERS\",\"dimensions\":[{\"name\":\"CUSTOMER_ID\",\"sample_values\":[\"1\",\"2\",\"3\"]},{\"name\":\"CUSTOMER_NAME\",\"cortex_search_service\":{\"database\":\"CORTEX_AGENTS_DEMO\",\"schema\":\"FINANCE_FOOD_BEVERAGE\",\"service\":\"_ANALYST_CUSTOMER_NAME_SEARCH\"}},{\"name\":\"CUSTOMER_TYPE\",\"sample_values\":[\"Convenience Store\",\"Supermarket\",\"Distributor\"]},{\"name\":\"REGION\",\"sample_values\":[\"Middle East & Africa\",\"North America\",\"Europe\"]}],\"facts\":[{\"name\":\"CREDIT_LIMIT\",\"sample_values\":[\"500000\",\"50000\",\"1000000\"]}]},{\"name\":\"PRODUCTS\",\"dimensions\":[{\"name\":\"CATEGORY\",\"sample_values\":[\"Coffee\",\"Water\",\"Chocolate\"]},{\"name\":\"PRODUCT_ID\",\"sample_values\":[\"1\",\"2\",\"3\"]},{\"name\":\"PRODUCT_NAME\",\"cortex_search_service\":{\"database\":\"CORTEX_AGENTS_DEMO\",\"schema\":\"FINANCE_FOOD_BEVERAGE\",\"service\":\"_ANALYST_PRODUCT_NAME_SEARCH\"}}],\"facts\":[{\"name\":\"UNIT_COST\",\"sample_values\":[\"9.77\",\"4.49\",\"11.18\"]},{\"name\":\"UNIT_PRICE\",\"sample_values\":[\"1.6\",\"6.36\",\"17.24\"]}]},{\"name\":\"SALES\",\"dimensions\":[{\"name\":\"CUSTOMER_ID\",\"sample_values\":[\"4\",\"26\",\"16\"]},{\"name\":\"PERIOD_ID\",\"sample_values\":[\"1\",\"2\",\"3\"]},{\"name\":\"PRODUCT_ID\",\"sample_values\":[\"42\",\"22\",\"13\"]},{\"name\":\"TRANSACTION_ID\",\"sample_values\":[\"1\",\"2\",\"3\"]}],\"facts\":[{\"name\":\"GROSS_PROFIT\",\"sample_values\":[\"7890.2\",\"3917.07\",\"-1067.76\"]},{\"name\":\"QUANTITY_SOLD\",\"sample_values\":[\"671\",\"829\",\"204\"]},{\"name\":\"TOTAL_COST\",\"sample_values\":[\"6025.58\",\"3150.2\",\"2933.52\"]},{\"name\":\"TOTAL_REVENUE\",\"sample_values\":[\"13915.78\",\"7067.27\",\"1865.76\"]},{\"name\":\"UNIT_PRICE\",\"sample_values\":[\"20.74\",\"8.53\",\"9.15\"]}]},{\"name\":\"TIME_PERIODS\",\"dimensions\":[{\"name\":\"MONTH\",\"sample_values\":[\"1\",\"3\",\"4\"]},{\"name\":\"MONTH_NAME\",\"sample_values\":[\"January\",\"March\",\"April\"]},{\"name\":\"PERIOD_ID\",\"sample_values\":[\"1\",\"2\",\"3\"]},{\"name\":\"QUARTER\",\"sample_values\":[\"Q1\",\"Q2\",\"Q3\"]},{\"name\":\"YEAR\",\"sample_values\":[\"2022\",\"2023\"]}],\"time_dimensions\":[{\"name\":\"DATE\",\"sample_values\":[\"2022-01-01\",\"2022-03-02\",\"2022-05-31\"]}]}],\"relationships\":[{\"name\":\"CAMPAIGNS_TO_TIME_PERIOD_END\",\"relationship_type\":\"many_to_one\",\"join_type\":\"inner\"},{\"name\":\"CAMPAIGNS_TO_TIME_PERIOD_START\",\"relationship_type\":\"many_to_one\",\"join_type\":\"inner\"},{\"name\":\"CAMPAIGNS_TO_PRODUCT\",\"relationship_type\":\"many_to_one\"},{\"name\":\"SALES_TO_PRODUCT\",\"relationship_type\":\"one_to_one\",\"join_type\":\"left_outer\"},{\"name\":\"SALES_TO_CUSTOMERS\",\"relationship_type\":\"many_to_one\",\"join_type\":\"inner\"},{\"name\":\"SALES_TO_TIME_PERIODS\",\"relationship_type\":\"many_to_one\",\"join_type\":\"inner\"}],\"verified_queries\":[{\"name\":\"campaign_impact\",\"question\":\"What''s the impact of marketing campaigns on sales performance?\",\"use_as_onboarding_question\":false,\"sql\":\"SELECT camp.campaign_name, SUM(CASE WHEN t.period_id BETWEEN camp.start_period AND camp.end_period THEN s.total_revenue ELSE 0 END) AS campaign_revenue, SUM(CASE WHEN NOT t.period_id BETWEEN camp.start_period AND camp.end_period THEN s.total_revenue ELSE 0 END) AS non_campaign_revenue, camp.budget FROM campaigns AS camp JOIN products AS p ON camp.category = p.category JOIN sales AS s ON p.product_id = s.product_id JOIN time_periods AS t ON s.period_id = t.period_id GROUP BY camp.campaign_id, camp.campaign_name, camp.budget\",\"verified_by\":\"Michael Gorkow\",\"verified_at\":1751456609},{\"name\":\"monthly_rolling_average_per_category\",\"question\":\"Calculate the 3-month rolling average revenue for each product category.\",\"use_as_onboarding_question\":false,\"sql\":\"WITH monthly_category_revenue AS (SELECT p.category, t.year, t.month, SUM(s.total_revenue) AS monthly_revenue FROM sales AS s JOIN products AS p ON s.product_id = p.product_id JOIN time_periods AS t ON s.period_id = t.period_id GROUP BY p.category, t.year, t.month) SELECT category, year, month, AVG(monthly_revenue) OVER (PARTITION BY category ORDER BY year, month ROWS BETWEEN 2 PRECEDING AND CURRENT ROW) AS rolling_3month_avg FROM monthly_category_revenue ORDER BY category, year, month\",\"verified_by\":\"Michael Gorkow\",\"verified_at\":1751456896}]}'\n);",
   "execution_count": null
  },
  {
   "cell_type": "markdown",
   "id": "2d5c55c4-e383-4f3e-b8ac-e4a5ca22f7ea",
   "metadata": {
    "name": "AGENT1"
   },
   "source": [
    "# Create Agent"
   ]
  },
  {
   "cell_type": "code",
   "execution_count": null,
   "id": "b0afba55-62c5-4470-a56c-f12b0db74449",
   "metadata": {
    "name": "AGENT2",
    "language": "python"
   },
   "outputs": [],
   "source": "session.sql(\"\"\"\nCREATE OR REPLACE AGENT SNOWFLAKE_INTELLIGENCE.AGENTS.FB_AGENT2 profile='{\"display_name\":\"FB_AGENT\"}' FROM SPECIFICATION \n$$\n{\n  \"models\": {\n    \"orchestration\": \"claude-4-sonnet\"\n  },\n  \"instructions\": {\n    \"sample_questions\": [\n      {\n        \"question\": \"Which products were featured in the summer hydration campaign and what was their weekly sales revenue during the campaign and the two months before the campaign started? Visualize weekly sales of the featured products in a line plot.\"\n      }\n    ]\n  },\n  \"tools\": [\n    {\n      \"tool_spec\": {\n        \"type\": \"cortex_analyst_text_to_sql\",\n        \"name\": \"fb_hub\",\n        \"description\": \"CAMPAIGNS:\\n- Database: CORTEX_AGENTS_DEMO, Schema: FINANCE_FOOD_BEVERAGE\\n- This table stores marketing campaign information for a food and beverage company, tracking promotional activities across different product categories. Each campaign has specific time periods, budgets, and discount percentages to measure marketing effectiveness.\\n- The table enables analysis of campaign performance by linking to sales data through product categories and time periods. It supports evaluation of marketing ROI and promotional impact on revenue generation.\\n- LIST OF COLUMNS: CAMPAIGN_ID (unique campaign identifier), CAMPAIGN_NAME (marketing campaign name), CATEGORY (product category being promoted - links to PRODUCTS table), START_PERIOD (campaign start period - links to PERIOD_ID in TIME_PERIODS), END_PERIOD (campaign end period - links to PERIOD_ID in TIME_PERIODS), BUDGET (allocated campaign budget), DISCOUNT_PERCENT (percentage discount offered)\\n\\nCUSTOMERS:\\n- Database: CORTEX_AGENTS_DEMO, Schema: FINANCE_FOOD_BEVERAGE\\n- This table contains customer information including various business types such as supermarkets, convenience stores, and distributors across different geographic regions. Each customer has defined credit limits and represents different channels through which the company sells its products.\\n- The customer data enables regional sales analysis and customer segmentation based on business type and credit capacity. It supports customer relationship management and market penetration analysis across different territories.\\n- LIST OF COLUMNS: CUSTOMER_ID (unique customer identifier - links to CUSTOMER_ID in SALES), CUSTOMER_NAME (customer business name), CUSTOMER_TYPE (type of business entity), REGION (geographic location), CREDIT_LIMIT (maximum credit allowed)\\n\\nPRODUCTS:\\n- Database: CORTEX_AGENTS_DEMO, Schema: FINANCE_FOOD_BEVERAGE\\n- This table maintains the product catalog for a food and beverage company, focusing on three main categories: Coffee, Water, and Chocolate. Each product has associated cost and pricing information for profitability analysis.\\n- The product data serves as the foundation for sales analysis and campaign targeting, enabling category-based performance evaluation. It supports pricing strategy decisions and product portfolio management through cost and revenue tracking.\\n- LIST OF COLUMNS: PRODUCT_ID (unique product identifier - links to PRODUCT_ID in SALES), PRODUCT_NAME (specific product name), CATEGORY (product classification - links to CATEGORY in CAMPAIGNS), UNIT_COST (production/purchase cost per unit), UNIT_PRICE (selling price per unit)\\n\\nSALES:\\n- Database: CORTEX_AGENTS_DEMO, Schema: FINANCE_FOOD_BEVERAGE\\n- This table captures all sales transactions with detailed financial metrics including revenue, costs, and profitability for each sale. It serves as the central fact table connecting customers, products, and time periods for comprehensive business analysis.\\n- The sales data enables performance tracking across multiple dimensions including customer segments, product categories, and time periods. It supports profitability analysis, trend identification, and campaign effectiveness measurement through integrated financial metrics.\\n- LIST OF COLUMNS: TRANSACTION_ID (unique transaction identifier), CUSTOMER_ID (purchasing customer - links to CUSTOMER_ID in CUSTOMERS), PRODUCT_ID (sold product - links to PRODUCT_ID in PRODUCTS), PERIOD_ID (sales period - links to PERIOD_ID in TIME_PERIODS), QUANTITY_SOLD (units sold), UNIT_PRICE (price per unit), TOTAL_REVENUE (total sales amount), TOTAL_COST (total cost of goods), GROSS_PROFIT (profit after costs)\\n\\nTIME_PERIODS:\\n- Database: CORTEX_AGENTS_DEMO, Schema: FINANCE_FOOD_BEVERAGE\\n- This table provides a comprehensive time dimension with hierarchical date information including years, quarters, months, and specific dates. It spans 24 months of data covering 2022-2023 for temporal analysis and reporting.\\n- The time dimension enables trend analysis, seasonal pattern identification, and period-over-period comparisons across all business metrics. It supports campaign timing analysis and financial performance tracking over different time intervals.\\n- LIST OF COLUMNS: PERIOD_ID (unique time period identifier - links to PERIOD_ID in SALES and START_PERIOD/END_PERIOD in CAMPAIGNS), YEAR (calendar year), MONTH (month number), MONTH_NAME (month name), QUARTER (quarterly designation), DATE (specific calendar date)\\n\\nREASONING:\\nThis semantic view represents a comprehensive business intelligence model for a food and beverage company's sales and marketing operations. The model centers around the SALES table as the primary fact table, which connects to dimension tables for CUSTOMERS, PRODUCTS, and TIME_PERIODS, while CAMPAIGNS provides marketing context. The relationships enable multi-dimensional analysis of sales performance, customer behavior, product profitability, and marketing effectiveness across different time periods and geographic regions. The data structure supports complex analytical queries including campaign impact analysis, rolling averages, customer segmentation, and regional performance comparisons across the company's three main product categories.\\n\\nDESCRIPTION:\\nThis semantic view models the global sales and marketing operations of a major food and beverage company, tracking financial performance across coffee, water, and chocolate product categories over 24 months (2022-2023). The model integrates sales transactions with customer information (supermarkets, distributors, convenience stores across five regions), product catalog data, marketing campaigns, and time dimensions to enable comprehensive business analysis. The central SALES table connects all dimensions, allowing for multi-dimensional analysis of revenue, profitability, and market performance across different customer segments, product categories, and time periods. The integrated campaign data enables measurement of promotional effectiveness and ROI analysis, while the hierarchical time structure supports trend analysis and seasonal pattern identification. This model is stored in the CORTEX_AGENTS_DEMO database under the FINANCE_FOOD_BEVERAGE schema and provides the foundation for strategic decision-making in product portfolio management, customer relationship optimization, and marketing campaign planning.\"\n      }\n    },\n    {\n      \"tool_spec\": {\n        \"type\": \"cortex_search\",\n        \"name\": \"marketing_documents\",\n        \"description\": \"Tool provides access to marketing documents that contain information about featured products and campaign periods.\"\n      }\n    }\n  ],\n  \"tool_resources\": {\n    \"fb_hub\": {\n      \"execution_environment\": {\n        \"query_timeout\": 300,\n        \"type\": \"warehouse\",\n        \"warehouse\": \"COMPUTE_WH\"\n      },\n      \"semantic_view\": \"CORTEX_AGENTS_DEMO.FINANCE_FOOD_BEVERAGE.FINANCE_SEMANTIC_MODEL\"\n    },\n    \"marketing_documents\": {\n      \"id_column\": \"URL\",\n      \"max_results\": 4,\n      \"name\": \"CORTEX_AGENTS_DEMO.FINANCE_FOOD_BEVERAGE.SEARCH_MARKETING_CAMPAIGNS\",\n      \"title_column\": \"RELATIVE_PATH\"\n    }\n  }\n}\n$$\"\"\").collect()"
  }
 ]
}